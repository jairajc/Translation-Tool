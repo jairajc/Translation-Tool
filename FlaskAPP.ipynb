{
 "cells": [
  {
   "cell_type": "markdown",
   "id": "eb40fbac-0bce-475e-9da5-02aa8e13f224",
   "metadata": {},
   "source": [
    "## Create the Flask Application\n",
    "\n",
    "'app.py' - The Main Application File"
   ]
  },
  {
   "cell_type": "code",
   "execution_count": null,
   "id": "55ffef5e-4a21-476a-bc51-bc7d670c36ef",
   "metadata": {},
   "outputs": [],
   "source": [
    "from flask import Flask, render_template, jsonify\n",
    "import json\n",
    "\n",
    "app = Flask(__name__)\n",
    "\n",
    "def load_data(file_path):\n",
    "    \"\"\" Load data from a JSON file \"\"\"\n",
    "    with open(file_path, 'r', encoding='utf-8') as file:\n",
    "        return json.load(file)\n",
    "\n",
    "@app.route('/')\n",
    "def index():\n",
    "    # Load original and translated datasets\n",
    "    original_data = load_data('path_to_dataset.json')  \n",
    "    translated_data = load_data('translated_dataset.json')  \n",
    "\n",
    "    return render_template('index.html', original_data=original_data, translated_data=translated_data)\n",
    "\n",
    "if __name__ == '__main__':\n",
    "    app.run(debug=True)\n"
   ]
  },
  {
   "cell_type": "code",
   "execution_count": null,
   "id": "4a5d6f8d-869b-4ae9-be35-1db1625f0b61",
   "metadata": {},
   "outputs": [],
   "source": [
    "<!DOCTYPE html>\n",
    "<html>\n",
    "<head>\n",
    "    <title>Translation Display</title>\n",
    "</head>\n",
    "<body>\n",
    "    <h1>Original and Translated Texts</h1>\n",
    "    <div>\n",
    "        {% for orig, trans in zip(original_data, translated_data) %}\n",
    "        <div style=\"margin-bottom: 20px;\">\n",
    "            <h2>Original Text:</h2>\n",
    "            <p>{{ orig.text }}</p> <!-- Replace 'text' with the actual key in your dataset -->\n",
    "            <h2>Translated Text:</h2>\n",
    "            <p>{{ trans.translated_text }}</p> <!-- Adjust according to your translated data structure -->\n",
    "        </div>\n",
    "        {% endfor %}\n",
    "    </div>\n",
    "</body>\n",
    "</html>\n"
   ]
  }
 ],
 "metadata": {
  "kernelspec": {
   "display_name": "Python 3 (ipykernel)",
   "language": "python",
   "name": "python3"
  },
  "language_info": {
   "codemirror_mode": {
    "name": "ipython",
    "version": 3
   },
   "file_extension": ".py",
   "mimetype": "text/x-python",
   "name": "python",
   "nbconvert_exporter": "python",
   "pygments_lexer": "ipython3",
   "version": "3.9.12"
  }
 },
 "nbformat": 4,
 "nbformat_minor": 5
}
