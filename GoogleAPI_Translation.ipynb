{
 "cells": [
  {
   "cell_type": "markdown",
   "id": "8e5b3abe-d974-4d8c-85ba-7a0f81573333",
   "metadata": {},
   "source": [
    "## Prerequisites\n",
    "1. Enable the Google Cloud Translation API in your Google Cloud Platform (GCP) account.\n",
    "2. Install the necessary Python packages for Google Cloud and handling JSON: pip install google-cloud-translate\n"
   ]
  },
  {
   "cell_type": "markdown",
   "id": "7e1fc73a-417e-4794-83e2-70591d557c5e",
   "metadata": {},
   "source": [
    "### Process Dataset and Translate"
   ]
  },
  {
   "cell_type": "code",
   "execution_count": null,
   "id": "afbc5a6b-7cb3-42e7-816e-59efc6d89f64",
   "metadata": {},
   "outputs": [],
   "source": [
    "import json\n",
    "from google.cloud import translate_v2 as translate\n",
    "\n",
    "# Google Translate client setup\n",
    "translate_client = translate.Client()\n",
    "\n",
    "def translate_text(text, target_language='en'):\n",
    "    \"\"\" Translate text to the specified target language using Google Translate API \"\"\"\n",
    "    translation = translate_client.translate(text, target_language=target_language)\n",
    "    return translation['translatedText']\n",
    "\n",
    "def process_dataset(file_path, target_language='en'):\n",
    "    \"\"\" Process a JSON dataset and translate its content \"\"\"\n",
    "    with open(file_path, 'r', encoding='utf-8') as file:\n",
    "        data = json.load(file)\n",
    "\n",
    "    translated_data = []\n",
    "\n",
    "    for item in data:\n",
    "        original_text = item['text']\n",
    "        translated_text = translate_text(original_text, target_language)\n",
    "        item['translated_text'] = translated_text\n",
    "        translated_data.append(item)\n",
    "\n",
    "    return translated_data\n",
    "\n",
    "def main():\n",
    "    dataset_path = 'path_to_dataset.json'  \n",
    "    target_language = 'es'  # Use the target language code (e.g., 'es' for Spanish)\n",
    "\n",
    "    translated_dataset = process_dataset(dataset_path, target_language)\n",
    "\n",
    "    # Save or process the translated dataset\n",
    "    with open('translated_dataset.json', 'w', encoding='utf-8') as f:\n",
    "        json.dump(translated_dataset, f, ensure_ascii=False, indent=4)\n",
    "\n",
    "    print(\"Dataset translated and saved successfully.\")\n",
    "\n",
    "if __name__ == '__main__':\n",
    "    main()\n"
   ]
  }
 ],
 "metadata": {
  "kernelspec": {
   "display_name": "Python 3 (ipykernel)",
   "language": "python",
   "name": "python3"
  },
  "language_info": {
   "codemirror_mode": {
    "name": "ipython",
    "version": 3
   },
   "file_extension": ".py",
   "mimetype": "text/x-python",
   "name": "python",
   "nbconvert_exporter": "python",
   "pygments_lexer": "ipython3",
   "version": "3.9.12"
  }
 },
 "nbformat": 4,
 "nbformat_minor": 5
}
