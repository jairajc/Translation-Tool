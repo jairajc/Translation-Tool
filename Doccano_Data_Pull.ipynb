{
 "cells": [
  {
   "cell_type": "markdown",
   "id": "49e8d948-bbb7-4d44-a1c4-b718cad728a7",
   "metadata": {},
   "source": [
    "## Script to Pull Data from Doccano\n",
    "\n",
    "Install the necessary Python packages: pip install requests"
   ]
  },
  {
   "cell_type": "code",
   "execution_count": null,
   "id": "9ca39f3f-07ed-4487-92e9-b15e4b9daa97",
   "metadata": {},
   "outputs": [],
   "source": [
    "import requests\n",
    "import json\n",
    "\n",
    "# Doccano API endpoints\n",
    "BASE_URL = 'http://your-doccano-instance.com'\n",
    "LOGIN_ENDPOINT = '/v1/auth/login'\n",
    "PROJECTS_ENDPOINT = '/v1/projects'\n",
    "ANNOTATIONS_ENDPOINT = '/v1/projects/{project_id}/docs'  \n",
    "\n",
    "# Doccano credentials\n",
    "USERNAME = 'your_username'\n",
    "PASSWORD = 'your_password'\n",
    "\n",
    "def login_to_doccano(base_url, username, password):\n",
    "    \"\"\" Log in to Doccano and return the token \"\"\"\n",
    "    response = requests.post(base_url + LOGIN_ENDPOINT, data={'username': username, 'password': password})\n",
    "    if response.status_code == 200:\n",
    "        return response.json()['token']\n",
    "    else:\n",
    "        raise Exception(\"Failed to log in to Doccano\")\n",
    "\n",
    "def get_annotations(base_url, token, project_id):\n",
    "    \"\"\" Get annotations from a Doccano project \"\"\"\n",
    "    headers = {'Authorization': f'Token {token}'}\n",
    "    response = requests.get(base_url + ANNOTATIONS_ENDPOINT.replace('{project_id}', str(project_id)), headers=headers)\n",
    "    if response.status_code == 200:\n",
    "        return response.json()\n",
    "    else:\n",
    "        raise Exception(\"Failed to fetch annotations\")\n",
    "\n",
    "def main():\n",
    "    try:\n",
    "        token = login_to_doccano(BASE_URL, USERNAME, PASSWORD)\n",
    "        project_id = 1  \n",
    "        annotations = get_annotations(BASE_URL, token, project_id)\n",
    "        with open('annotations.json', 'w', encoding='utf-8') as f:\n",
    "            json.dump(annotations, f, ensure_ascii=False, indent=4)\n",
    "\n",
    "        print(\"Annotations saved successfully.\")\n",
    "\n",
    "    except Exception as e:\n",
    "        print(str(e))\n",
    "\n",
    "if __name__ == '__main__':\n",
    "    main()\n"
   ]
  }
 ],
 "metadata": {
  "kernelspec": {
   "display_name": "Python 3 (ipykernel)",
   "language": "python",
   "name": "python3"
  },
  "language_info": {
   "codemirror_mode": {
    "name": "ipython",
    "version": 3
   },
   "file_extension": ".py",
   "mimetype": "text/x-python",
   "name": "python",
   "nbconvert_exporter": "python",
   "pygments_lexer": "ipython3",
   "version": "3.9.12"
  }
 },
 "nbformat": 4,
 "nbformat_minor": 5
}
